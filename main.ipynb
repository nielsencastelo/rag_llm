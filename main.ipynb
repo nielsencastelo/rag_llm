{
 "cells": [
  {
   "cell_type": "code",
   "execution_count": 1,
   "metadata": {},
   "outputs": [
    {
     "name": "stderr",
     "output_type": "stream",
     "text": [
      "c:\\Users\\nielsen.castelo\\AppData\\Local\\anaconda3\\envs\\inatel\\Lib\\site-packages\\sentence_transformers\\cross_encoder\\CrossEncoder.py:13: TqdmWarning: IProgress not found. Please update jupyter and ipywidgets. See https://ipywidgets.readthedocs.io/en/stable/user_install.html\n",
      "  from tqdm.autonotebook import tqdm, trange\n"
     ]
    }
   ],
   "source": [
    "from langchain_huggingface import HuggingFaceEmbeddings\n",
    "from langchain_community.vectorstores import FAISS\n",
    "from langchain_ollama import ChatOllama\n",
    "from langchain_core.prompts import ChatPromptTemplate, PromptTemplate\n",
    "from langchain.chains import create_history_aware_retriever, create_retrieval_chain\n",
    "from langchain.chains.combine_documents import create_stuff_documents_chain\n",
    "from langchain.text_splitter import RecursiveCharacterTextSplitter\n",
    "from langchain_community.document_loaders import PyPDFLoader\n",
    "import os\n",
    "\n",
    "# Configurações\n",
    "model_name = \"BAAI/bge-m3\"\n",
    "output_folder = 'vectorstore'\n",
    "existing_db_path = 'vectorstore/db_faiss_all_pdfs'\n",
    "\n",
    "# Função para carregar e processar PDFs\n",
    "def load_and_process_pdfs(pdf_folder):\n",
    "    documents = []\n",
    "    for filename in os.listdir(pdf_folder):\n",
    "        if filename.endswith('.pdf'):\n",
    "            file_path = os.path.join(pdf_folder, filename)\n",
    "            loader = PyPDFLoader(file_path)\n",
    "            documents.extend(loader.load())\n",
    "    \n",
    "    text_splitter = RecursiveCharacterTextSplitter(chunk_size=1000, chunk_overlap=200)\n",
    "    split_docs = text_splitter.split_documents(documents)\n",
    "    return split_docs\n",
    "\n",
    "# Carregar ou criar o banco de vetores\n",
    "def get_vectorstore(pdf_folder):\n",
    "    embeddings = HuggingFaceEmbeddings(model_name=model_name)\n",
    "    if os.path.exists(existing_db_path):\n",
    "        return FAISS.load_local(existing_db_path, embeddings, allow_dangerous_deserialization=True)\n",
    "    else:\n",
    "        docs = load_and_process_pdfs(pdf_folder)\n",
    "        vectorstore = FAISS.from_documents(docs, embeddings)\n",
    "        vectorstore.save_local(existing_db_path)\n",
    "        return vectorstore\n",
    "\n",
    "\n",
    "vectorstore = get_vectorstore('pdf_ppg')\n",
    "retriever = vectorstore.as_retriever(search_type=\"mmr\", search_kwargs={'k': 5, 'fetch_k': 6})"
   ]
  },
  {
   "cell_type": "code",
   "execution_count": 2,
   "metadata": {},
   "outputs": [],
   "source": [
    "def model_ollama(model=\"llama3.2\", temperature=0.1):\n",
    "    return ChatOllama(model=model, temperature=temperature)\n",
    "\n",
    "llm = model_ollama()"
   ]
  },
  {
   "cell_type": "code",
   "execution_count": 3,
   "metadata": {},
   "outputs": [],
   "source": [
    "context_q_system_prompt = \"\"\"\n",
    "Dado o histórico de chat e a pergunta de acompanhamento, que pode fazer referência ao contexto no histórico do chat, \n",
    "formule uma pergunta independente que possa ser entendida sem o histórico do chat. \n",
    "NÃO responda à pergunta, apenas reformule-a se necessário e, caso contrário, retorne-a como está.\n",
    "\"\"\"\n",
    "\n",
    "qa_prompt_template = \"\"\"\n",
    "Você é um assistente virtual especializado em analisar e responder perguntas sobre artigos científicos, base de dados utilizados, algoritmos, \n",
    "metodologia, avaliações, pontos fortes e fracos dos estudos sobre os artigos.\n",
    "Use os seguintes trechos de contexto recuperado para responder à pergunta.\n",
    "Se você não souber a resposta, diga honestamente que não sabe. Mantenha a resposta concisa e focada.\n",
    "Se for solicitado a listar algoritmos, base de dados, métodos ou informações específicas dos artigos, faça-o de forma estruturada e clara.\n",
    "Responda em português.\n",
    "\n",
    "Pergunta: {input}\n",
    "\n",
    "Contexto: {context}\n",
    "\n",
    "Resposta:\n",
    "\"\"\"\n",
    "\n",
    "context_q_prompt = ChatPromptTemplate.from_messages([\n",
    "    (\"system\", context_q_system_prompt),\n",
    "    (\"human\", \"Pergunta: {input}\")\n",
    "])\n",
    "\n",
    "history_aware_retriever = create_history_aware_retriever(llm=llm, retriever=retriever, prompt=context_q_prompt)\n",
    "\n",
    "qa_prompt = PromptTemplate.from_template(qa_prompt_template)\n",
    "qa_chain = create_stuff_documents_chain(llm, qa_prompt)\n",
    "rag_chain = create_retrieval_chain(history_aware_retriever, qa_chain)\n",
    "\n",
    "# Função para fazer perguntas\n",
    "def ask_question(question, chat_history=''):\n",
    "    result = rag_chain.invoke({\"input\": question, \"chat_history\": chat_history})\n",
    "    return result['answer']"
   ]
  },
  {
   "cell_type": "code",
   "execution_count": 4,
   "metadata": {},
   "outputs": [
    {
     "name": "stdout",
     "output_type": "stream",
     "text": [
      "Olá! Estou aqui para ajudar com suas perguntas sobre artigos científicos.\n",
      "\n",
      "Você solicitou uma lista de algoritmos utilizados nos artigos da base de conhecimento, juntamente com a referência do artigo correspondente. Aqui está a lista:\n",
      "\n",
      "* **Logística Linear (LR)**: Utilizado em [21] \"Assessment of vasoactive agents and vascular aging by the second derivative of photoplethysmogram waveform\" e [3] \"Assessing Elevated Blood Glucose Levels Through Blood Glucose Evaluation and Monitoring Using Machine Learning and Wearable Photoplethysmography Sensors: Algorithm Development nd Validation\".\n",
      "* **Rede Neuronal Convolucional (CNN)**: Utilizado em [9] \"Detection of type-2 diabetes using characteristics of toe photoplethysmogram by applying support vector machine\" e [33] \"MACHINE LEARNING -BASED DIABETES DETECTION USING PHOTOPLETHYSMOGRAPHY SIGNAL FEATURES\".\n",
      "* **Rede Neuronal Deep (DNN)**: Utilizado em [8] \"Detection of type-2 diabetes using characteristics of toe photoplethysmogram by applying support vector machine\" e [33] \"MACHINE LEARNING -BASED DIABETES DETECTION USING PHOTOPLETHYSMOGRAPHY SIGNAL FEATURES\".\n",
      "* **XGBoost**: Utilizado em [21] \"Assessment of vasoactive agents and vascular aging by the second derivative of photoplethysmogram waveform\" e [3] \"Assessing Elevated Blood Glucose Levels Through Blood Glucose Evaluation and Monitoring Using Machine Learning and Wearable Photoplethysmography Sensors: Algorithm Development nd Validation\".\n",
      "* **Rede Perceptron Básica (BPNN)**: Utilizado em [7] \"MACHINE LEARNING -BASED DIABETES DETECTION USING PHOTOPLETHYSMOGRAPHY SIGNAL FEATURES\".\n",
      "* **Rede Neural Artificial (CAE)**: Utilizado em [33] \"MACHINE LEARNING -BASED DIABETES DETECTION USING PHOTOPLETHYSMOGRAPHY SIGNAL FEATURES\" e [8] \"Detection of type-2 diabetes using characteristics of toe photoplethysmogram by applying support vector machine\".\n",
      "\n",
      "Essas são as referências dos artigos correspondentes a cada algoritmo. Se você tiver mais alguma pergunta, sinta-se à vontade para perguntar!\n"
     ]
    }
   ],
   "source": [
    "user_query = 'Liste todos os algoritmos utilizados nos artigos sua base de conhecimento, mostre qual artigo da base de conhecimento foi utilizado por cada algoritmo'\n",
    "response = ask_question(user_query)\n",
    "print(response)"
   ]
  },
  {
   "cell_type": "code",
   "execution_count": 5,
   "metadata": {},
   "outputs": [
    {
     "name": "stdout",
     "output_type": "stream",
     "text": [
      "Com base nos artigos mencionados, aqui está uma metodologia proposta para o estudo de predição de diabetes tipo II:\n",
      "\n",
      "**Passo 1: Preprocessamento dos dados**\n",
      "\n",
      "* Centro os dados em zero média e escale-os para variância unitária.\n",
      "* Aplicar SMOTE para corrigir a desigualdade de classes.\n",
      "\n",
      "**Passo 2: Seleção de características**\n",
      "\n",
      "* Utilizar uma abordagem de seleção de características baseada em feature subset selection, onde:\n",
      " + Crie múltiplos conjuntos de características que contenham as características mais importantes para a predição de diabetes.\n",
      " + Treine um modelo de classificação (XGBoost) para cada conjunto de características e avalie o desempenho do modelo utilizando métricas de precisão e F1-score.\n",
      "\n",
      "**Passo 3: Avaliação do desempenho**\n",
      "\n",
      "* Utilizar uma abordagem de avaliação baseada em cross-validation, onde:\n",
      " + Divida os dados em cinco conjuntos de treinamento e teste.\n",
      " + Treine o modelo utilizando cada conjunto de treinamento e avalie o desempenho do modelo utilizando métricas de precisão e F1-score.\n",
      " + Averaje as métricas de desempenho para cada conjunto de treinamento.\n",
      "\n",
      "**Passo 4: Identificação do conjunto de características ótimo**\n",
      "\n",
      "* Utilizar uma abordagem de otimização para identificar o conjunto de características que oferece o melhor desempenho.\n",
      " + Utilize uma grid search para otimizar os hiperparâmetros do modelo XGBoost.\n",
      " + Avalie o desempenho do modelo utilizando métricas de precisão e F1-score.\n",
      "\n",
      "**Passo 5: Avaliação final**\n",
      "\n",
      "* Avalie o desempenho do modelo utilizando métricas de precisão e F1-score.\n",
      "* Utilize a abordagem de CEG (Calibration Procedure) para avaliar a precisão das previsões do modelo.\n",
      "\n",
      "Essa metodologia combina técnicas de seleção de características, otimização de hiperparâmetros e avaliação baseada em cross-validation para identificar o conjunto de características ótimo e avaliar o desempenho do modelo.\n"
     ]
    }
   ],
   "source": [
    "user_query = 'Baseado na sua base de conhecimento Construa uma metodologia baseado nos melhores resultados'\n",
    "response = ask_question(user_query)\n",
    "print(response)"
   ]
  },
  {
   "cell_type": "code",
   "execution_count": 6,
   "metadata": {},
   "outputs": [
    {
     "name": "stdout",
     "output_type": "stream",
     "text": [
      "O artigo que utilizou o Shannon Energy é \"Assessment of vasoactive agents and vascular aging by the second derivative of photoplethysmogram waveform\" de Thambarawita, Jhah, Hamme, Johannesen e Halvorsen (2020).\n",
      "\n",
      "A razão pelo qual o Shannon Energy foi utilizado nesse estudo é para quantificar a distribuição da energia do sinal de frequência em diferentes componentes. Isso ajuda a capturar a energia total do sinal e entender como ela está distribuída, o que pode ser útil para avaliar a saúde vascular.\n",
      "\n",
      "Aqui estão os detalhes sobre o Shannon Energy:\n",
      "\n",
      "*   Definição: A energia de Shannon é uma medida da energia total de um sinal de frequência.\n",
      "*   Cálculo: É calculada dividindo a energia total do sinal por sua amplitude máxima.\n",
      "*   Uso: Foi utilizado nesse estudo para avaliar a saúde vascular e identificar agentes vasoativos eficazes.\n",
      "\n",
      "Essa medida é importante porque pode ajudar a entender melhor como a energia do sinal de frequência está relacionada à saúde vascular, o que pode ser útil para desenvolver novas estratégias de prevenção e tratamento de doenças cardíacas.\n"
     ]
    }
   ],
   "source": [
    "user_query = 'Na sua base de conhecimento. Qual artigo utiilzou nos estudos o Shannon  Energy? veja qual o motivo'\n",
    "response = ask_question(user_query)\n",
    "print(response)"
   ]
  },
  {
   "cell_type": "code",
   "execution_count": 7,
   "metadata": {},
   "outputs": [
    {
     "name": "stdout",
     "output_type": "stream",
     "text": [
      "Com base nos trechos de contexto fornecidos, os atributos utilizados para treinar os modelos usando sinais PPG incluem:\n",
      "\n",
      "* Coeficientes de variação (variance)\n",
      "* Coeficientes de skewness (skewness)\n",
      "* Coeficientes de kurtosidade (kurtosis)\n",
      "* Desvios padrão (standard deviation)\n",
      "* Entropia da informação (information entropy)\n",
      "* Idade\n",
      "* Altura\n",
      "* Peso\n",
      "* Taxa cardíaca (heart rate)\n",
      "* Fluxo sanguíneo (blood flow rate)\n",
      "* Hemoglobina (hemoglobin)\n",
      "* Oximetria pulmonar (pulse oximetry)\n",
      "\n",
      "Além disso, alguns estudos também utilizam características derivadas do sinal PPG, como:\n",
      "\n",
      "* Derivadas do sinal PPG\n",
      "* Transformada de Fourier (FFT)\n",
      "\n",
      "Os modelos utilizados para treinar os dados incluem:\n",
      "\n",
      "* Redes neurais artificiais (BPNN)\n",
      "* Redes neurais profundas (DNN)\n",
      "* Convolução neural (CNN)\n",
      "* Classificação por suporte vectorial máxima (GSVM)\n",
      "* XGBoost\n",
      "* Regressão logística\n",
      "\n",
      "Os algoritmos utilizados para classificar os dados incluem:\n",
      "\n",
      "* GSVM\n",
      "* XGBoost\n",
      "* Regressão logística\n",
      "\n",
      "As bases de dados utilizadas incluem:\n",
      "\n",
      "* Dataset de Guilin (contém informações fisiológicas e sinais PPG de 219 pacientes)\n",
      "* Dataset de Liang et al. (contém informações fisiológicas e sinais PPG de 219 pacientes)\n",
      "\n",
      "É importante notar que a lista de atributos, modelos e algoritmos pode variar dependendo do estudo específico e da aplicação.\n"
     ]
    }
   ],
   "source": [
    "user_query = 'Na sua base de conhecimento. Qual são os atribultos utilizados para treinar os modelos usando sinais PPG?'\n",
    "response = ask_question(user_query)\n",
    "print(response)"
   ]
  }
 ],
 "metadata": {
  "kernelspec": {
   "display_name": "inatel",
   "language": "python",
   "name": "python3"
  },
  "language_info": {
   "codemirror_mode": {
    "name": "ipython",
    "version": 3
   },
   "file_extension": ".py",
   "mimetype": "text/x-python",
   "name": "python",
   "nbconvert_exporter": "python",
   "pygments_lexer": "ipython3",
   "version": "3.12.4"
  }
 },
 "nbformat": 4,
 "nbformat_minor": 2
}
