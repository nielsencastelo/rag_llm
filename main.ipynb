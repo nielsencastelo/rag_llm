{
 "cells": [
  {
   "cell_type": "code",
   "execution_count": 1,
   "metadata": {},
   "outputs": [
    {
     "name": "stderr",
     "output_type": "stream",
     "text": [
      "c:\\Users\\niels\\anaconda3\\envs\\LLM\\Lib\\site-packages\\sentence_transformers\\cross_encoder\\CrossEncoder.py:13: TqdmExperimentalWarning: Using `tqdm.autonotebook.tqdm` in notebook mode. Use `tqdm.tqdm` instead to force console mode (e.g. in jupyter console)\n",
      "  from tqdm.autonotebook import tqdm, trange\n"
     ]
    }
   ],
   "source": [
    "from langchain_huggingface import HuggingFaceEmbeddings\n",
    "from langchain_community.vectorstores import FAISS\n",
    "from langchain_ollama import ChatOllama\n",
    "from langchain_core.prompts import ChatPromptTemplate, PromptTemplate\n",
    "from langchain.chains import create_history_aware_retriever, create_retrieval_chain\n",
    "from langchain.chains.combine_documents import create_stuff_documents_chain\n",
    "from langchain.text_splitter import RecursiveCharacterTextSplitter\n",
    "from langchain_community.document_loaders import PyPDFLoader\n",
    "import os\n",
    "\n",
    "# Configurações\n",
    "model_name = \"BAAI/bge-m3\"\n",
    "output_folder = 'vectorstore'\n",
    "existing_db_path = 'vectorstore/db_faiss_all_pdfs'\n",
    "\n",
    "\n",
    "def load_and_process_pdfs(pdf_folder):\n",
    "    documents = []\n",
    "    for filename in os.listdir(pdf_folder):\n",
    "        if filename.endswith('.pdf'):\n",
    "            file_path = os.path.join(pdf_folder, filename)\n",
    "            loader = PyPDFLoader(file_path)\n",
    "            documents.extend(loader.load())\n",
    "    \n",
    "    text_splitter = RecursiveCharacterTextSplitter(chunk_size=1000, chunk_overlap=200)\n",
    "    split_docs = text_splitter.split_documents(documents)\n",
    "    return split_docs\n",
    "\n",
    "\n",
    "def get_vectorstore(pdf_folder):\n",
    "    embeddings = HuggingFaceEmbeddings(model_name=model_name)\n",
    "    if os.path.exists(existing_db_path):\n",
    "        return FAISS.load_local(existing_db_path, embeddings, allow_dangerous_deserialization=True)\n",
    "    else:\n",
    "        docs = load_and_process_pdfs(pdf_folder)\n",
    "        vectorstore = FAISS.from_documents(docs, embeddings)\n",
    "        vectorstore.save_local(existing_db_path)\n",
    "        return vectorstore\n",
    "\n",
    "\n",
    "vectorstore = get_vectorstore('pdf_ppg')\n",
    "retriever = vectorstore.as_retriever(search_type=\"mmr\", search_kwargs={'k': 5, 'fetch_k': 6})"
   ]
  },
  {
   "cell_type": "code",
   "execution_count": 3,
   "metadata": {},
   "outputs": [],
   "source": [
    "def model_ollama(model=\"llama3.2\", temperature=0.1):\n",
    "    return ChatOllama(model=model, temperature=temperature)\n",
    "\n",
    "llm = model_ollama()"
   ]
  },
  {
   "cell_type": "code",
   "execution_count": 4,
   "metadata": {},
   "outputs": [],
   "source": [
    "context_q_system_prompt = \"\"\"\n",
    "Dado o histórico de chat e a pergunta de acompanhamento, que pode fazer referência ao contexto no histórico do chat, \n",
    "formule uma pergunta independente que possa ser entendida sem o histórico do chat. \n",
    "NÃO responda à pergunta, apenas reformule-a se necessário e, caso contrário, retorne-a como está.\n",
    "\"\"\"\n",
    "\n",
    "qa_prompt_template = \"\"\"\n",
    "Você é um assistente virtual especializado em analisar e responder perguntas sobre documentos.\n",
    "Use os seguintes trechos de contexto recuperado para responder à pergunta.\n",
    "Se você não souber a resposta, diga honestamente que não sabe. Mantenha a resposta concisa e focada.\n",
    "Se for solicitado a listar as referências dos artigos, informações específicas do documento, faça-o de forma estruturada e clara.\n",
    "Responda em português.\n",
    "\n",
    "Pergunta: {input}\n",
    "\n",
    "Contexto: {context}\n",
    "\n",
    "Resposta:\n",
    "\"\"\"\n",
    "\n",
    "context_q_prompt = ChatPromptTemplate.from_messages([\n",
    "    (\"system\", context_q_system_prompt),\n",
    "    (\"human\", \"Pergunta: {input}\")\n",
    "])\n",
    "\n",
    "history_aware_retriever = create_history_aware_retriever(llm=llm, retriever=retriever, prompt=context_q_prompt)\n",
    "\n",
    "qa_prompt = PromptTemplate.from_template(qa_prompt_template)\n",
    "qa_chain = create_stuff_documents_chain(llm, qa_prompt)\n",
    "rag_chain = create_retrieval_chain(history_aware_retriever, qa_chain)\n",
    "\n",
    "# Função para fazer perguntas\n",
    "def ask_question(question, chat_history=''): \n",
    "    result = rag_chain.invoke({\"input\": question, \"chat_history\": chat_history})\n",
    "    return result['answer']"
   ]
  },
  {
   "cell_type": "code",
   "execution_count": 8,
   "metadata": {},
   "outputs": [
    {
     "name": "stdout",
     "output_type": "stream",
     "text": [
      "Aqui estão os desafios listados:\n",
      "\n",
      "**DESAFIOS SOFT TECH**\n",
      "\n",
      "1. Caracterização do envelope operacional de poços desconectados e em monitoramento via sistema hidro acústico\n",
      "2. Desenvolver um software ágil e simples que represente graficamente todas as barreiras de um poço, englobando também a estrutura montada na sonda em um esquema educativo (RIG PROCESS VIEW)\n",
      "3. DESAFIO 3 - Não foi especificado\n",
      "\n",
      "**DESAFIOS DEEP TECH**\n",
      "\n",
      "4. Sistema para monitoração de perda de espessura em grandes trechos de tubulação ou dutos, com comunicação remota de dados\n",
      "5. DESAFIO 5 - Não foi especificado\n",
      "6. DESAFIO 6 - Não foi especificado\n",
      "7. DESAFIO 7 - Não foi especificado\n",
      "8. DESAFIO 8 - Não foi especificado\n",
      "9. DESAFIO 9 - Não foi especificado\n",
      "10. Sistema para monitoração de perda de espessura em grandes trechos de tubulação ou dutos, com comunicação remota de dados (DESAFIOS DEEP TECH)\n",
      "11. DESAFIO 11 - Não foi especificado\n",
      "\n",
      "Observações:\n",
      "\n",
      "* Desafio 3 não foi especificado.\n",
      "* Os desafios 5 a 11 não foram especificados.\n",
      "* O prazo de execução para os desafios SOFT TECH é de até 12 meses, enquanto para os desafios DEEP TECH é de até 24 meses.\n"
     ]
    }
   ],
   "source": [
    "user_query = 'Liste todos os desafios?'\n",
    "response = ask_question(user_query)\n",
    "print(response)"
   ]
  },
  {
   "cell_type": "code",
   "execution_count": 11,
   "metadata": {},
   "outputs": [
    {
     "name": "stdout",
     "output_type": "stream",
     "text": [
      "Com base nos desafios apresentados, posso identificar alguns dos principais desafios que você pode enfrentar como cientista de dados, especialista em engenharia de dados e visão computacional:\n",
      "\n",
      "1. **Desafio 3 - SOFT TECH**: Estruturação e integração de dados para visualização e análises de integridade em sistemas especialistas para dutos rígidos submarinos.\n",
      " * Desafios:\n",
      " + Tratamento de dados não estruturados e descentralizados\n",
      " + Integração com sistemas especialistas como Integridutos e IntegriSpan\n",
      " + Visualização eficaz dos dados para análises de integridade\n",
      "2. **Desafio 10 - DEEP TECH**: Sistema para monitoração de perda de espessura em grandes trechos de tubulação ou dutos, com comunicação remota de dados.\n",
      " * Desafios:\n",
      " + Monitoramento de longas distâncias com tecnologias digitais e satélites\n",
      " + Coleta e comunicação de dados remotos de forma eficiente\n",
      " + Redução do tempo de resposta em caso de problema de integridade\n",
      "3. **Desafio 2 - SOFT TECH**: Desenvolver um software ágil e simples que represente graficamente todas as barreiras de um poço, englobando também a estrutura montada na sonda.\n",
      " * Desafios:\n",
      " + Representação eficaz das barreiras e estruturas em uma visualização gráfica\n",
      " + Integração com sistemas especialistas como POÇOS\n",
      " + Consulta complexa dos dados para fornecer informações estruturadas\n",
      "\n",
      "Além disso, é importante notar que os desafios apresentados envolvem a integração de tecnologias digitais, inspeção e análises de dados, o que pode ser um desafio em si mesmo.\n",
      "\n",
      "Referências:\n",
      "\n",
      "* DESAFIO 3 - SOFT TECH: Estruturação e integração de dados para visualização e análises de integridade em sistemas especialistas para dutos rígidos submarinos\n",
      "* DESAFIO 10 - DEEP TECH: Sistema para monitoração de perda de espessura em grandes trechos de tubulação ou dutos, com comunicação remota de dados\n",
      "* DESAFIO 2 - SOFT TECH: Desenvolver um software ágil e simples que represente graficamente todas as barreiras de um poço, englobando também a estrutura montada na sonda\n"
     ]
    }
   ],
   "source": [
    "user_query = \"\"\"Sou cientista de dados, especialista em engenharia de dados e visão computacional. \n",
    "Qual seria os desafios baseado nas minhas especialidades? \"\"\"\n",
    "response = ask_question(user_query)\n",
    "print(response)"
   ]
  },
  {
   "cell_type": "code",
   "execution_count": 12,
   "metadata": {},
   "outputs": [
    {
     "name": "stdout",
     "output_type": "stream",
     "text": [
      "Olá! Estou aqui para ajudar a analisar e responder às suas perguntas sobre documentos relacionados a processamento de imagem e utilização de drones.\n",
      "\n",
      "Para responder à sua pergunta, gostaria de destacar alguns desafios que envolvem o processamento de imagem ou a utilização de drones:\n",
      "\n",
      "1. **Qualidade da imagem**: A qualidade da imagem capturada por câmeras de drone ou sensores pode ser limitada pela distância e pelo ambiente em que está sendo capturada.\n",
      "2. **Processamento de imagem**: O processamento de imagem é um desafio, especialmente quando se trata de imagens de alta resolução e complexidade.\n",
      "3. **Análise de dados**: A análise de dados gerados pelas imagens pode ser um desafio, especialmente quando se trata de grandes conjuntos de dados.\n",
      "4. **Segurança**: A segurança é um desafio, especialmente quando se trata de drones que podem estar em áreas perigosas ou com acesso limitado.\n",
      "\n",
      "Esses são apenas alguns dos desafios que envolvem o processamento de imagem e a utilização de drones. Se você tiver mais perguntas ou precisar de ajuda com algo específico, sinta-se à vontade para perguntar!\n",
      "\n",
      "**Referências:**\n",
      "\n",
      "* DESAFIO 2 - SOFT TECH: Desenvolver um software ágil e simples que represente graficamente todas as barreiras de um poço.\n",
      "* DESAFIO 10 - DEEP TECH: Monitorar, a partir de um único ponto de instalação de sensores, pelo menos 10 metros de tubulação/duto, com detecção de corrosão interna ou externa neste trecho e coleta e envio de dados realizados de forma remota para o usuário.\n",
      "* DESAFIO 5 - DEEP TECH: Dispositivo de monitoramento por câmera subaquática, instalado permanentemente ou que seja de fácil manuseio por um operador.\n"
     ]
    }
   ],
   "source": [
    "user_query = 'Quais os Desafios que envolvem processamento de imagem ou utilização de drone ?'\n",
    "response = ask_question(user_query)\n",
    "print(response)"
   ]
  }
 ],
 "metadata": {
  "kernelspec": {
   "display_name": "LLM",
   "language": "python",
   "name": "python3"
  },
  "language_info": {
   "codemirror_mode": {
    "name": "ipython",
    "version": 3
   },
   "file_extension": ".py",
   "mimetype": "text/x-python",
   "name": "python",
   "nbconvert_exporter": "python",
   "pygments_lexer": "ipython3",
   "version": "3.12.5"
  }
 },
 "nbformat": 4,
 "nbformat_minor": 2
}
