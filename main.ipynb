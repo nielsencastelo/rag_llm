{
 "cells": [
  {
   "cell_type": "code",
   "execution_count": 1,
   "metadata": {},
   "outputs": [
    {
     "name": "stderr",
     "output_type": "stream",
     "text": [
      "c:\\Users\\Tekla\\anaconda3\\envs\\LLM\\Lib\\site-packages\\sentence_transformers\\cross_encoder\\CrossEncoder.py:13: TqdmWarning: IProgress not found. Please update jupyter and ipywidgets. See https://ipywidgets.readthedocs.io/en/stable/user_install.html\n",
      "  from tqdm.autonotebook import tqdm, trange\n"
     ]
    }
   ],
   "source": [
    "from langchain_huggingface import HuggingFaceEmbeddings\n",
    "from langchain_community.vectorstores import FAISS\n",
    "from langchain_ollama import ChatOllama\n",
    "from langchain_core.prompts import ChatPromptTemplate, PromptTemplate\n",
    "from langchain.chains import create_history_aware_retriever, create_retrieval_chain\n",
    "from langchain.chains.combine_documents import create_stuff_documents_chain\n",
    "from langchain.text_splitter import RecursiveCharacterTextSplitter\n",
    "from langchain_community.document_loaders import PyPDFLoader\n",
    "import os\n",
    "\n",
    "# Configurações\n",
    "model_name = \"BAAI/bge-m3\"\n",
    "output_folder = 'vectorstore'\n",
    "existing_db_path = 'vectorstore/db_faiss_all_pdfs'\n",
    "\n",
    "\n",
    "def load_and_process_pdfs(pdf_folder):\n",
    "    documents = []\n",
    "    for filename in os.listdir(pdf_folder):\n",
    "        if filename.endswith('.pdf'):\n",
    "            file_path = os.path.join(pdf_folder, filename)\n",
    "            loader = PyPDFLoader(file_path)\n",
    "            documents.extend(loader.load())\n",
    "    \n",
    "    text_splitter = RecursiveCharacterTextSplitter(chunk_size=1000, chunk_overlap=200)\n",
    "    split_docs = text_splitter.split_documents(documents)\n",
    "    return split_docs\n",
    "\n",
    "\n",
    "def get_vectorstore(pdf_folder):\n",
    "    embeddings = HuggingFaceEmbeddings(model_name=model_name)\n",
    "    if os.path.exists(existing_db_path):\n",
    "        return FAISS.load_local(existing_db_path, embeddings, allow_dangerous_deserialization=True)\n",
    "    else:\n",
    "        docs = load_and_process_pdfs(pdf_folder)\n",
    "        vectorstore = FAISS.from_documents(docs, embeddings)\n",
    "        vectorstore.save_local(existing_db_path)\n",
    "        return vectorstore\n",
    "\n",
    "\n",
    "vectorstore = get_vectorstore('pdf_ppg')\n",
    "retriever = vectorstore.as_retriever(search_type=\"mmr\", search_kwargs={'k': 3, 'fetch_k': 5})"
   ]
  },
  {
   "cell_type": "code",
   "execution_count": 2,
   "metadata": {},
   "outputs": [],
   "source": [
    "def model_ollama(model=\"llama3.2\", temperature=0.1):\n",
    "    return ChatOllama(model=model, temperature=temperature)\n",
    "\n",
    "llm = model_ollama()"
   ]
  },
  {
   "cell_type": "code",
   "execution_count": 4,
   "metadata": {},
   "outputs": [],
   "source": [
    "context_q_system_prompt = \"\"\"\n",
    "Dado o histórico de chat e a pergunta de acompanhamento, que pode fazer referência ao contexto no histórico do chat, \n",
    "formule uma pergunta independente que possa ser entendida sem o histórico do chat. \n",
    "NÃO responda à pergunta, apenas reformule-a se necessário e, caso contrário, retorne-a como está.\n",
    "\"\"\"\n",
    "\n",
    "qa_prompt_template = \"\"\"\n",
    "Você é um assistente virtual especializado em analisar e responder perguntas sobre documentos juridicos.\n",
    "Use os seguintes trechos de contexto recuperado para responder à pergunta.\n",
    "Se você não souber a resposta, diga honestamente que não sabe. Mantenha a resposta concisa e focada.\n",
    "Se for solicitado a listar as referências dos artigos, leias, informações específicas do documento, faça-o de forma estruturada e clara.\n",
    "Responda em português.\n",
    "\n",
    "Pergunta: {input}\n",
    "\n",
    "Contexto: {context}\n",
    "\n",
    "Resposta:\n",
    "\"\"\"\n",
    "\n",
    "context_q_prompt = ChatPromptTemplate.from_messages([\n",
    "    (\"system\", context_q_system_prompt),\n",
    "    (\"human\", \"Pergunta: {input}\")\n",
    "])\n",
    "\n",
    "history_aware_retriever = create_history_aware_retriever(llm=llm, retriever=retriever, prompt=context_q_prompt)\n",
    "\n",
    "qa_prompt = PromptTemplate.from_template(qa_prompt_template)\n",
    "qa_chain = create_stuff_documents_chain(llm, qa_prompt)\n",
    "rag_chain = create_retrieval_chain(history_aware_retriever, qa_chain)\n",
    "\n",
    "# Função para fazer perguntas\n",
    "def ask_question(question, chat_history=''): \n",
    "    result = rag_chain.invoke({\"input\": question, \"chat_history\": chat_history})\n",
    "    return result['answer']"
   ]
  },
  {
   "cell_type": "markdown",
   "metadata": {},
   "source": [
    "Pagina 390 do documento"
   ]
  },
  {
   "cell_type": "code",
   "execution_count": 5,
   "metadata": {},
   "outputs": [
    {
     "name": "stdout",
     "output_type": "stream",
     "text": [
      "Não sabe se foi comprovado doença ocupacional de acordo com o laudo.\n"
     ]
    }
   ],
   "source": [
    "user_query = 'De acordo com o laudo foi comprovado doença ocupacional?'\n",
    "response = ask_question(user_query)\n",
    "print(response)"
   ]
  },
  {
   "cell_type": "markdown",
   "metadata": {},
   "source": [
    "Pagina 424 do documento"
   ]
  },
  {
   "cell_type": "code",
   "execution_count": 6,
   "metadata": {},
   "outputs": [
    {
     "name": "stdout",
     "output_type": "stream",
     "text": [
      "A sentença do Juiz menciona que o autor reclamou o pagamento de horas extras excedentes à oitava hora diária e 44ª hora semanal, mas o Juiz a quo afastou a exceção prevista no art. 62 da CLT, considerando que a jornada de trabalho informada na inicial (segunda à quinta-feira, das 8h às 12h e 13h às 20h e, nas sextas-feiras, das 08h às 17h) não é a mesma que a jornada efetivamente cumprida pelo autor.\n",
      "\n",
      "Portanto, o Juiz julgou parcialmente procedente o pedido de pagamento de horas extras, mas apenas com base na jornada fixada acima (08h às 20h, com 1 hora de intervalo), e não com base nas horas extras excedentes à oitava hora diária e 44ª hora semanal.\n",
      "\n",
      "Em resumo, a sentença do Juiz afasta a exceção prevista no art. 62 da CLT e julga parcialmente procedente o pedido de pagamento de horas extras com base na jornada fixada acima.\n"
     ]
    }
   ],
   "source": [
    "user_query = \"\"\"Extrair alguns pontos relevantes da sentença. Sobre as horas extras qual foi a sentença do Juiz?\"\"\"\n",
    "response = ask_question(user_query)\n",
    "print(response)"
   ]
  }
 ],
 "metadata": {
  "kernelspec": {
   "display_name": "LLM",
   "language": "python",
   "name": "python3"
  },
  "language_info": {
   "codemirror_mode": {
    "name": "ipython",
    "version": 3
   },
   "file_extension": ".py",
   "mimetype": "text/x-python",
   "name": "python",
   "nbconvert_exporter": "python",
   "pygments_lexer": "ipython3",
   "version": "3.12.7"
  }
 },
 "nbformat": 4,
 "nbformat_minor": 2
}
